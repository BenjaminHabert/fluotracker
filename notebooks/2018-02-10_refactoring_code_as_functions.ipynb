{
 "cells": [
  {
   "cell_type": "markdown",
   "metadata": {},
   "source": [
    "# Objectif\n",
    "\n",
    "On veut séparer le code de François en quelques fonctions basiques qui peuvent être lancées plus facilement."
   ]
  },
  {
   "cell_type": "code",
   "execution_count": 2,
   "metadata": {},
   "outputs": [
    {
     "name": "stdout",
     "output_type": "stream",
     "text": [
      "The autoreload extension is already loaded. To reload it, use:\n",
      "  %reload_ext autoreload\n"
     ]
    }
   ],
   "source": [
    "# pour que le notebook mette à jours le code quand on fait des modifications\n",
    "# sans avoir besoin de relancer le jupyter-kernel\n",
    "%load_ext autoreload\n",
    "%autoreload 2"
   ]
  },
  {
   "cell_type": "code",
   "execution_count": null,
   "metadata": {},
   "outputs": [],
   "source": []
  },
  {
   "cell_type": "code",
   "execution_count": 3,
   "metadata": {},
   "outputs": [],
   "source": [
    "# pour que les graphiques s'affichent directement dans le notebook\n",
    "%matplotlib inline"
   ]
  },
  {
   "cell_type": "code",
   "execution_count": null,
   "metadata": {},
   "outputs": [],
   "source": []
  },
  {
   "cell_type": "code",
   "execution_count": 7,
   "metadata": {},
   "outputs": [],
   "source": [
    "# loading from our code:\n",
    "from fluotracker.io import files\n",
    "\n",
    "# (if it doesnt work it means the repository folder is not in your PYTHONPATH)"
   ]
  },
  {
   "cell_type": "code",
   "execution_count": 8,
   "metadata": {},
   "outputs": [
    {
     "name": "stdout",
     "output_type": "stream",
     "text": [
      "Needs to be implemented\n"
     ]
    }
   ],
   "source": [
    "files.inventory()"
   ]
  },
  {
   "cell_type": "code",
   "execution_count": 9,
   "metadata": {},
   "outputs": [
    {
     "data": {
      "text/plain": [
       "{}"
      ]
     },
     "execution_count": 9,
     "metadata": {},
     "output_type": "execute_result"
    }
   ],
   "source": [
    "files.get_movies_paths('raw/')"
   ]
  },
  {
   "cell_type": "code",
   "execution_count": 10,
   "metadata": {},
   "outputs": [
    {
     "name": "stdout",
     "output_type": "stream",
     "text": [
      "Help on module fluotracker.io.files in fluotracker.io:\n",
      "\n",
      "NAME\n",
      "    fluotracker.io.files - This module makes it easy to load / save files from the `data/` directory.\n",
      "\n",
      "DESCRIPTION\n",
      "    In particular we add functions to load frames from a .tif movie\n",
      "\n",
      "FUNCTIONS\n",
      "    create_abspath(relative_path, folder=None)\n",
      "        Returns absolute path in the data/ folder\n",
      "    \n",
      "    get_movies_paths(relative_path)\n",
      "        Returns the list of .tif movies in a subfolder\n",
      "        \n",
      "        Example\n",
      "        -------\n",
      "        \n",
      "        >>> get_movies_paths('raw/')\n",
      "        {\"movie8\": \"/absolute/path/to/data/raw/movie8.tif\"}\n",
      "        \n",
      "        Parameters\n",
      "        ----------\n",
      "        relative_path: str\n",
      "            the subfolder in `data/` where the movies are\n",
      "        \n",
      "        Returns\n",
      "        -------\n",
      "        paths: dict\n",
      "            dictionary movie_name -> movie absolue path\n",
      "    \n",
      "    get_name_and_path(relative_path)\n",
      "        Returns filename (no extension) and absolute filepath from  input relative_path\n",
      "        \n",
      "        Parameters\n",
      "        ----------\n",
      "        relative_path: str\n",
      "            relative_path to file from `data/` root folder\n",
      "        \n",
      "        Returns\n",
      "        -------\n",
      "        name, path: tuple of str\n",
      "            name: filename with no extension (and no spaces?)\n",
      "            path: absolute path to file\n",
      "    \n",
      "    inventory()\n",
      "        prints the list of files in the directory (goes into subfolders)\n",
      "        \n",
      "        Example\n",
      "        -------\n",
      "        \n",
      "        >>> inventory()\n",
      "        raw/\n",
      "        raw/movie8.tif\n",
      "        processed/\n",
      "        processed/movie8_tracks.csv\n",
      "    \n",
      "    load_movie_frames_and_name(movie_relative_path)\n",
      "        Returns frames as numpy array\n",
      "    \n",
      "    save_dataframe(df, relative_path, folder=None)\n",
      "        Saves pandas dataframe as csv in the `data/` folder\n",
      "\n",
      "DATA\n",
      "    DATA = '/absolute/path/to/data/'\n",
      "\n",
      "FILE\n",
      "    /Users/benjaminhabert/Documents/FluotrackerProject/fluotracker/fluotracker/io/files.py\n",
      "\n",
      "\n"
     ]
    }
   ],
   "source": [
    "help(files)"
   ]
  },
  {
   "cell_type": "code",
   "execution_count": null,
   "metadata": {},
   "outputs": [],
   "source": []
  }
 ],
 "metadata": {
  "kernelspec": {
   "display_name": "Python 3",
   "language": "python",
   "name": "python3"
  },
  "language_info": {
   "codemirror_mode": {
    "name": "ipython",
    "version": 3
   },
   "file_extension": ".py",
   "mimetype": "text/x-python",
   "name": "python",
   "nbconvert_exporter": "python",
   "pygments_lexer": "ipython3",
   "version": "3.6.5"
  }
 },
 "nbformat": 4,
 "nbformat_minor": 2
}
