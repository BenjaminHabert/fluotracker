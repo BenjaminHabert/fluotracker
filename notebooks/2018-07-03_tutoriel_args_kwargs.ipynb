{
 "cells": [
  {
   "cell_type": "markdown",
   "metadata": {},
   "source": [
    "# `*args`, `**kwargs` et *unpacking* en Python\n",
    "\n",
    "\n",
    "On trouve parfois des fonctions avec des définitions étranges:\n",
    "\n",
    "```python\n",
    "def add_all(*args):\n",
    "    # does stuff\n",
    "    pass\n",
    "\n",
    "def compute_thing(**kwargs):\n",
    "    ...\n",
    "```\n",
    "\n",
    "Quelles sont les significations de ces arguments ?\n",
    "\n",
    "## Explication rapide\n",
    "\n",
    "- une fonction preut prendre en argument des *positional arguments* qui sont nécessaires suivis de *keyword arguments* qui ont une valeur par défaut (et sont donc optionnels)\n",
    "\n",
    "\n",
    "- on utilise `*args` quand on veut que la fonction puisse être appelée avec un nombre de *positional arguments* variable\n",
    "  - il est souvent plus simple de **ne pas définir les fonctions ainsi**: on peut souvent remplacer `*args` par un objet de type liste\n",
    " \n",
    "  \n",
    "- on utilise `**kwargs` quand on veut que la fonction puisse être appelée avec des *keyword arguments* arbitraire\n",
    "  - il est souvent plus simple de **ne pas définir les fonctions ainsi** mais de nommer chaque argument de manière explicite.\n",
    "  \n",
    "  \n",
    "- pour utiliser une liste sur une fonction écrite avec plusieurs arguments, on peut utiliser le *list unpacking*:\n",
    "  \n",
    "```python\n",
    "def show_position(x, y):\n",
    "    pass\n",
    "my_pos = [23, 66]\n",
    "show_position(*my_pos)\n",
    "```\n",
    "  \n",
    "  \n",
    "\n",
    "  \n",
    "- pour passer d'un coup de nombreux paramètres à une fonction on peut utiliser le *dict unpacking*:\n",
    "\n",
    "\n",
    "```python\n",
    "def complex_function(filename, output_folder, scale_ratio=0.2, preprocess=True):\n",
    "    pass\n",
    "config = {\n",
    "    'filename': 'myfile.tif',\n",
    "    'output_folder': 'data/output',\n",
    "     # 'scale_ratio': 18,  # si on ne fournit pas ce paramètre, sa valeur par défaut (0.2) va être utilisée\n",
    "    'preprocess': False\n",
    "}\n",
    "complex_function(**config)\n",
    "```\n",
    "\n"
   ]
  },
  {
   "cell_type": "markdown",
   "metadata": {},
   "source": [
    "## Arguments habituels d'une fonction\n",
    "\n",
    "Habituellement on distingue deux types d'arguments pour une fonction:\n",
    "\n",
    "- les *positional arguments* qui sont obligatoires et doivent être fournis dans l'ordre\n",
    "- les *keyword arguments* qui ont une valeur par défaut (ils sont donc optionels) et peuvent être fournis dans un ordre quelconque. \n"
   ]
  },
  {
   "cell_type": "code",
   "execution_count": 1,
   "metadata": {},
   "outputs": [],
   "source": [
    "# Cette fonction a un positional argument et un named argument\n",
    "def power(number, exponent=2):\n",
    "    return number ** exponent"
   ]
  },
  {
   "cell_type": "code",
   "execution_count": 2,
   "metadata": {},
   "outputs": [
    {
     "ename": "TypeError",
     "evalue": "power() missing 1 required positional argument: 'number'",
     "output_type": "error",
     "traceback": [
      "\u001b[0;31m---------------------------------------------------------------------------\u001b[0m",
      "\u001b[0;31mTypeError\u001b[0m                                 Traceback (most recent call last)",
      "\u001b[0;32m<ipython-input-2-8d7f6b41845d>\u001b[0m in \u001b[0;36m<module>\u001b[0;34m()\u001b[0m\n\u001b[1;32m      1\u001b[0m \u001b[0;31m# Le premier argument est nécessaire. Ca ne fonctionne pas si on ne le met pas\u001b[0m\u001b[0;34m\u001b[0m\u001b[0;34m\u001b[0m\u001b[0m\n\u001b[0;32m----> 2\u001b[0;31m \u001b[0mpower\u001b[0m\u001b[0;34m(\u001b[0m\u001b[0;34m)\u001b[0m\u001b[0;34m\u001b[0m\u001b[0m\n\u001b[0m",
      "\u001b[0;31mTypeError\u001b[0m: power() missing 1 required positional argument: 'number'"
     ]
    }
   ],
   "source": [
    "# Le premier argument est nécessaire. Ca ne fonctionne pas si on ne le met pas\n",
    "power()"
   ]
  },
  {
   "cell_type": "code",
   "execution_count": 3,
   "metadata": {},
   "outputs": [
    {
     "data": {
      "text/plain": [
       "9"
      ]
     },
     "execution_count": 3,
     "metadata": {},
     "output_type": "execute_result"
    }
   ],
   "source": [
    "# Si on met un seul argument le deuxième prend la valeur par défaut\n",
    "power(3)"
   ]
  },
  {
   "cell_type": "code",
   "execution_count": 4,
   "metadata": {},
   "outputs": [
    {
     "data": {
      "text/plain": [
       "64"
      ]
     },
     "execution_count": 4,
     "metadata": {},
     "output_type": "execute_result"
    }
   ],
   "source": [
    "# Si on utilise un deuxième argument il occupe naturellement la place du deuxième argument de la fonction \n",
    "# (qui se trouve ici être un argument nommé): ça remplace la valeur par défaut\n",
    "power(4, 3)"
   ]
  },
  {
   "cell_type": "code",
   "execution_count": 5,
   "metadata": {},
   "outputs": [
    {
     "data": {
      "text/plain": [
       "64"
      ]
     },
     "execution_count": 5,
     "metadata": {},
     "output_type": "execute_result"
    }
   ],
   "source": [
    "# On peut utiliser les noms des arguments de manière explicites\n",
    "power(4, exponent=3)"
   ]
  },
  {
   "cell_type": "code",
   "execution_count": 6,
   "metadata": {},
   "outputs": [
    {
     "ename": "SyntaxError",
     "evalue": "positional argument follows keyword argument (<ipython-input-6-3e479b962e91>, line 2)",
     "output_type": "error",
     "traceback": [
      "\u001b[0;36m  File \u001b[0;32m\"<ipython-input-6-3e479b962e91>\"\u001b[0;36m, line \u001b[0;32m2\u001b[0m\n\u001b[0;31m    power(exponent=3, 4)\u001b[0m\n\u001b[0m                     ^\u001b[0m\n\u001b[0;31mSyntaxError\u001b[0m\u001b[0;31m:\u001b[0m positional argument follows keyword argument\n"
     ]
    }
   ],
   "source": [
    "# Par contre on ne peut pas mettre les arguments \"nommés\" avant des arguments \"positionnels\": \n",
    "power(exponent=3, 4)"
   ]
  },
  {
   "cell_type": "code",
   "execution_count": 7,
   "metadata": {},
   "outputs": [
    {
     "data": {
      "text/plain": [
       "64"
      ]
     },
     "execution_count": 7,
     "metadata": {},
     "output_type": "execute_result"
    }
   ],
   "source": [
    "# On peut utiliser le nom du premier argument également (si les arguments suivants sont aussi nommés)\n",
    "power(number=4, exponent=3)"
   ]
  },
  {
   "cell_type": "code",
   "execution_count": 8,
   "metadata": {},
   "outputs": [
    {
     "data": {
      "text/plain": [
       "64"
      ]
     },
     "execution_count": 8,
     "metadata": {},
     "output_type": "execute_result"
    }
   ],
   "source": [
    "# Dans ce cas on peut aussi changer arbitrairement l'ordre des arguments:\n",
    "power(exponent=3, number=4)"
   ]
  },
  {
   "cell_type": "code",
   "execution_count": 9,
   "metadata": {},
   "outputs": [
    {
     "ename": "TypeError",
     "evalue": "power() got an unexpected keyword argument 'mauvais_argument'",
     "output_type": "error",
     "traceback": [
      "\u001b[0;31m---------------------------------------------------------------------------\u001b[0m",
      "\u001b[0;31mTypeError\u001b[0m                                 Traceback (most recent call last)",
      "\u001b[0;32m<ipython-input-9-c5e97dd36dfe>\u001b[0m in \u001b[0;36m<module>\u001b[0;34m()\u001b[0m\n\u001b[1;32m      1\u001b[0m \u001b[0;31m# par contre il ne faut pas se tromper sur le nom des arguments:\u001b[0m\u001b[0;34m\u001b[0m\u001b[0;34m\u001b[0m\u001b[0m\n\u001b[0;32m----> 2\u001b[0;31m \u001b[0mpower\u001b[0m\u001b[0;34m(\u001b[0m\u001b[0mmauvais_argument\u001b[0m\u001b[0;34m=\u001b[0m\u001b[0;36m4\u001b[0m\u001b[0;34m,\u001b[0m \u001b[0mexponent\u001b[0m\u001b[0;34m=\u001b[0m\u001b[0;36m3\u001b[0m\u001b[0;34m)\u001b[0m\u001b[0;34m\u001b[0m\u001b[0m\n\u001b[0m",
      "\u001b[0;31mTypeError\u001b[0m: power() got an unexpected keyword argument 'mauvais_argument'"
     ]
    }
   ],
   "source": [
    "# par contre il ne faut pas se tromper sur le nom des arguments:\n",
    "power(mauvais_argument=4, exponent=3)"
   ]
  },
  {
   "cell_type": "code",
   "execution_count": 10,
   "metadata": {},
   "outputs": [
    {
     "ename": "TypeError",
     "evalue": "power() takes from 1 to 2 positional arguments but 3 were given",
     "output_type": "error",
     "traceback": [
      "\u001b[0;31m---------------------------------------------------------------------------\u001b[0m",
      "\u001b[0;31mTypeError\u001b[0m                                 Traceback (most recent call last)",
      "\u001b[0;32m<ipython-input-10-82764986bd7b>\u001b[0m in \u001b[0;36m<module>\u001b[0;34m()\u001b[0m\n\u001b[1;32m      1\u001b[0m \u001b[0;31m# Si on ajoute une troisième argument la fonction ne sait pas quoi en faire\u001b[0m\u001b[0;34m\u001b[0m\u001b[0;34m\u001b[0m\u001b[0m\n\u001b[0;32m----> 2\u001b[0;31m \u001b[0mpower\u001b[0m\u001b[0;34m(\u001b[0m\u001b[0;36m3\u001b[0m\u001b[0;34m,\u001b[0m \u001b[0;36m3\u001b[0m\u001b[0;34m,\u001b[0m \u001b[0;36m4\u001b[0m\u001b[0;34m)\u001b[0m\u001b[0;34m\u001b[0m\u001b[0m\n\u001b[0m",
      "\u001b[0;31mTypeError\u001b[0m: power() takes from 1 to 2 positional arguments but 3 were given"
     ]
    }
   ],
   "source": [
    "# Si on ajoute une troisième argument la fonction ne sait pas quoi en faire\n",
    "power(3, 3, 4)"
   ]
  },
  {
   "cell_type": "markdown",
   "metadata": {},
   "source": [
    "## `*args`: pour un nombre d'arguments positionnels variables\n",
    "\n",
    "On utilise `*args` quand on ne sait pas encore combien de *positional arguments* seront reçus par la fonction. Par exemple si on veut faire une fonction qui fait la somme de plusieurs nombres on veut que ça fonctionne avec 0, 1, 2 ou N nombres.\n",
    "\n",
    "A l'intérieur de la fonction on peut considérer la variable `args` comme une liste (c'est en fait un `tuple` ce qui est presque pareil).\n"
   ]
  },
  {
   "cell_type": "code",
   "execution_count": 11,
   "metadata": {},
   "outputs": [],
   "source": [
    "# Cette fonction n'a que des arguments optionels\n",
    "# Elle accepte un nombre de positional argument variable\n",
    "def sum_of_powers(*args, exponent=2):\n",
    "    print('Adding numbers', args, 'with exponent', exponent)\n",
    "    total = 0\n",
    "    for number in args:\n",
    "        total += number ** exponent\n",
    "    return total"
   ]
  },
  {
   "cell_type": "code",
   "execution_count": 12,
   "metadata": {},
   "outputs": [
    {
     "name": "stdout",
     "output_type": "stream",
     "text": [
      "Adding numbers () with exponent 2\n"
     ]
    },
    {
     "data": {
      "text/plain": [
       "0"
      ]
     },
     "execution_count": 12,
     "metadata": {},
     "output_type": "execute_result"
    }
   ],
   "source": [
    "# Aucun argument n'est nécessaire ici\n",
    "sum_of_powers()"
   ]
  },
  {
   "cell_type": "code",
   "execution_count": 13,
   "metadata": {},
   "outputs": [
    {
     "name": "stdout",
     "output_type": "stream",
     "text": [
      "Adding numbers (4,) with exponent 2\n"
     ]
    },
    {
     "data": {
      "text/plain": [
       "16"
      ]
     },
     "execution_count": 13,
     "metadata": {},
     "output_type": "execute_result"
    }
   ],
   "source": [
    "# Si on met un seul argument: il va dans la 'liste' args\n",
    "sum_of_powers(4)"
   ]
  },
  {
   "cell_type": "code",
   "execution_count": 14,
   "metadata": {},
   "outputs": [
    {
     "name": "stdout",
     "output_type": "stream",
     "text": [
      "Adding numbers (1, 2, 3) with exponent 1\n"
     ]
    },
    {
     "data": {
      "text/plain": [
       "6"
      ]
     },
     "execution_count": 14,
     "metadata": {},
     "output_type": "execute_result"
    }
   ],
   "source": [
    "# Si on ajoute d'autres arguments ils sont \"rangés\" dans la variable args\n",
    "sum_of_powers(1, 2, 3, exponent=1)"
   ]
  },
  {
   "cell_type": "code",
   "execution_count": 15,
   "metadata": {},
   "outputs": [
    {
     "ename": "SyntaxError",
     "evalue": "positional argument follows keyword argument (<ipython-input-15-138bf0eda0db>, line 2)",
     "output_type": "error",
     "traceback": [
      "\u001b[0;36m  File \u001b[0;32m\"<ipython-input-15-138bf0eda0db>\"\u001b[0;36m, line \u001b[0;32m2\u001b[0m\n\u001b[0;31m    sum_of_powers(exponent=1, 2, 3)\u001b[0m\n\u001b[0m                             ^\u001b[0m\n\u001b[0;31mSyntaxError\u001b[0m\u001b[0;31m:\u001b[0m positional argument follows keyword argument\n"
     ]
    }
   ],
   "source": [
    "# A nouveau on ne peut pas mettre des positional arguments après des keyword arguments\n",
    "sum_of_powers(exponent=1, 2, 3)"
   ]
  },
  {
   "cell_type": "markdown",
   "metadata": {},
   "source": [
    "### *Unpacking* d'une liste\n",
    "\n",
    "Pour une fonction qui accèpte plusieurs arguments, il est souvent pratique d'utiliser la syntaxe de *list unpacking* pour lui fournir les arguments.\n",
    "\n",
    "Pour cela on utilise `my_function(*list_of_values)`"
   ]
  },
  {
   "cell_type": "code",
   "execution_count": 16,
   "metadata": {},
   "outputs": [
    {
     "name": "stdout",
     "output_type": "stream",
     "text": [
      "Adding numbers (1, 2, 3, 4) with exponent 1\n"
     ]
    },
    {
     "data": {
      "text/plain": [
       "10"
      ]
     },
     "execution_count": 16,
     "metadata": {},
     "output_type": "execute_result"
    }
   ],
   "source": [
    "number_to_add = [1, 2, 3, 4]\n",
    "sum_of_powers(*number_to_add, exponent=1)"
   ]
  },
  {
   "cell_type": "code",
   "execution_count": 17,
   "metadata": {},
   "outputs": [
    {
     "name": "stdout",
     "output_type": "stream",
     "text": [
      "Your position: (x: 12.0, y: 45.0)\n"
     ]
    }
   ],
   "source": [
    "# Dans l'exemple précédent on utilise le list unpacking pour une fonction qui accèpte un nombre variable d'arguments\n",
    "# mais ce n'est pas toujours le cas.\n",
    "\n",
    "def show_position(x, y):\n",
    "    print('Your position: (x: {:.1f}, y: {:.1f})'.format(x, y))\n",
    "    \n",
    "pos = [12, 45]\n",
    "show_position(*pos)"
   ]
  },
  {
   "cell_type": "markdown",
   "metadata": {},
   "source": [
    "### Conseil: utiliser une liste plutôt que `*args`\n",
    "\n",
    "Finalement il est souvent plus simple de fournir explicitement une liste à la fonction plutôt que des arguments les uns après les autres."
   ]
  },
  {
   "cell_type": "code",
   "execution_count": 18,
   "metadata": {},
   "outputs": [],
   "source": [
    "def sum_of_powers(list_of_numbers, exponent=2):\n",
    "    total = 0\n",
    "    for number in list_of_numbers:\n",
    "        total += number ** exponent\n",
    "    return total"
   ]
  },
  {
   "cell_type": "code",
   "execution_count": 19,
   "metadata": {},
   "outputs": [
    {
     "data": {
      "text/plain": [
       "6"
      ]
     },
     "execution_count": 19,
     "metadata": {},
     "output_type": "execute_result"
    }
   ],
   "source": [
    "numbers_to_add = [1, 2, 3]\n",
    "sum_of_powers(numbers_to_add, exponent=1)"
   ]
  },
  {
   "cell_type": "code",
   "execution_count": 20,
   "metadata": {},
   "outputs": [
    {
     "ename": "TypeError",
     "evalue": "sum_of_powers() missing 1 required positional argument: 'list_of_numbers'",
     "output_type": "error",
     "traceback": [
      "\u001b[0;31m---------------------------------------------------------------------------\u001b[0m",
      "\u001b[0;31mTypeError\u001b[0m                                 Traceback (most recent call last)",
      "\u001b[0;32m<ipython-input-20-210e075fe4aa>\u001b[0m in \u001b[0;36m<module>\u001b[0;34m()\u001b[0m\n\u001b[1;32m      1\u001b[0m \u001b[0;31m# Par contre on ne peut plus utiliser la fonction sans argument\u001b[0m\u001b[0;34m\u001b[0m\u001b[0;34m\u001b[0m\u001b[0m\n\u001b[0;32m----> 2\u001b[0;31m \u001b[0msum_of_powers\u001b[0m\u001b[0;34m(\u001b[0m\u001b[0;34m)\u001b[0m\u001b[0;34m\u001b[0m\u001b[0m\n\u001b[0m",
      "\u001b[0;31mTypeError\u001b[0m: sum_of_powers() missing 1 required positional argument: 'list_of_numbers'"
     ]
    }
   ],
   "source": [
    "# Par contre on ne peut plus utiliser la fonction sans argument\n",
    "sum_of_powers()"
   ]
  },
  {
   "cell_type": "code",
   "execution_count": 21,
   "metadata": {},
   "outputs": [
    {
     "data": {
      "text/plain": [
       "0"
      ]
     },
     "execution_count": 21,
     "metadata": {},
     "output_type": "execute_result"
    }
   ],
   "source": [
    "# On est obligé de fournir une liste vide\n",
    "sum_of_powers([])"
   ]
  },
  {
   "cell_type": "markdown",
   "metadata": {},
   "source": [
    "## `**kwargs`: pour des arguments nommés arbitraires\n",
    "\n",
    "Dans la fonction, `kwargs` est un dictionnaire pour lequel:\n",
    "- clé = nom du *keyword argument*\n",
    "- valeur = valeur de l'argument"
   ]
  },
  {
   "cell_type": "code",
   "execution_count": 22,
   "metadata": {},
   "outputs": [],
   "source": [
    "def show_arguments(a, b, *args, exponent=2, **kwargs):\n",
    "    print('Required arguments: a =', a, 'b =', b)\n",
    "    print('Optional positional arguments ({:d}):'.format(len(args)), args)\n",
    "    print('Optional \"exponent\" argument:', exponent)\n",
    "    print('Other keyword arguments ({:d}):'.format(len(kwargs)), kwargs)\n",
    "    \n",
    "    for key, value in kwargs.items():\n",
    "        print('    - ', key, '->', value)"
   ]
  },
  {
   "cell_type": "code",
   "execution_count": 23,
   "metadata": {},
   "outputs": [
    {
     "ename": "TypeError",
     "evalue": "show_arguments() missing 2 required positional arguments: 'a' and 'b'",
     "output_type": "error",
     "traceback": [
      "\u001b[0;31m---------------------------------------------------------------------------\u001b[0m",
      "\u001b[0;31mTypeError\u001b[0m                                 Traceback (most recent call last)",
      "\u001b[0;32m<ipython-input-23-38780411d51e>\u001b[0m in \u001b[0;36m<module>\u001b[0;34m()\u001b[0m\n\u001b[0;32m----> 1\u001b[0;31m \u001b[0mshow_arguments\u001b[0m\u001b[0;34m(\u001b[0m\u001b[0;34m)\u001b[0m\u001b[0;34m\u001b[0m\u001b[0m\n\u001b[0m",
      "\u001b[0;31mTypeError\u001b[0m: show_arguments() missing 2 required positional arguments: 'a' and 'b'"
     ]
    }
   ],
   "source": [
    "show_arguments()"
   ]
  },
  {
   "cell_type": "code",
   "execution_count": 24,
   "metadata": {},
   "outputs": [
    {
     "name": "stdout",
     "output_type": "stream",
     "text": [
      "Required arguments: a = 1 b = 2\n",
      "Optional positional arguments (0): ()\n",
      "Optional \"exponent\" argument: 2\n",
      "Other keyword arguments (0): {}\n"
     ]
    }
   ],
   "source": [
    "show_arguments(1, 2)"
   ]
  },
  {
   "cell_type": "code",
   "execution_count": 25,
   "metadata": {},
   "outputs": [
    {
     "name": "stdout",
     "output_type": "stream",
     "text": [
      "Required arguments: a = 1 b = 2\n",
      "Optional positional arguments (3): (3, 4, 5)\n",
      "Optional \"exponent\" argument: 2\n",
      "Other keyword arguments (0): {}\n"
     ]
    }
   ],
   "source": [
    "numbers = [1, 2, 3, 4, 5]\n",
    "show_arguments(*numbers)"
   ]
  },
  {
   "cell_type": "code",
   "execution_count": 26,
   "metadata": {},
   "outputs": [
    {
     "name": "stdout",
     "output_type": "stream",
     "text": [
      "Required arguments: a = 1 b = 2\n",
      "Optional positional arguments (3): (3, 4, 5)\n",
      "Optional \"exponent\" argument: 4\n",
      "Other keyword arguments (0): {}\n"
     ]
    }
   ],
   "source": [
    "show_arguments(*numbers, exponent=4)"
   ]
  },
  {
   "cell_type": "code",
   "execution_count": 27,
   "metadata": {},
   "outputs": [
    {
     "name": "stdout",
     "output_type": "stream",
     "text": [
      "Required arguments: a = 45 b = 27\n",
      "Optional positional arguments (0): ()\n",
      "Optional \"exponent\" argument: 3\n",
      "Other keyword arguments (0): {}\n"
     ]
    }
   ],
   "source": [
    "show_arguments(exponent=3, a=45, b=27)"
   ]
  },
  {
   "cell_type": "code",
   "execution_count": 28,
   "metadata": {},
   "outputs": [
    {
     "name": "stdout",
     "output_type": "stream",
     "text": [
      "Required arguments: a = 1 b = 2\n",
      "Optional positional arguments (3): (3, 4, 5)\n",
      "Optional \"exponent\" argument: 2\n",
      "Other keyword arguments (2): {'complicated': True, 'why': 'For Fun'}\n",
      "    -  complicated -> True\n",
      "    -  why -> For Fun\n"
     ]
    }
   ],
   "source": [
    "show_arguments(*numbers, complicated=True, why='For Fun')"
   ]
  },
  {
   "cell_type": "markdown",
   "metadata": {},
   "source": [
    "### *Unpacking* d'un dictionnaire\n",
    "\n",
    "Pour une fonction qui prend plusieurs paramètres et que c'est compliqué à écrire il peut être pratique d'utiliser le *dictionnary unpacking*."
   ]
  },
  {
   "cell_type": "code",
   "execution_count": 29,
   "metadata": {},
   "outputs": [
    {
     "name": "stdout",
     "output_type": "stream",
     "text": [
      "Required arguments: a = 3 b = 45\n",
      "Optional positional arguments (0): ()\n",
      "Optional \"exponent\" argument: 4\n",
      "Other keyword arguments (1): {'complicated': True}\n",
      "    -  complicated -> True\n"
     ]
    }
   ],
   "source": [
    "configuration = {\n",
    "    'a': 3,\n",
    "    'b': 45,\n",
    "    'exponent': 4,\n",
    "    'complicated': True\n",
    "}\n",
    "show_arguments(**configuration)"
   ]
  },
  {
   "cell_type": "code",
   "execution_count": 30,
   "metadata": {},
   "outputs": [
    {
     "ename": "TypeError",
     "evalue": "show_arguments() missing 1 required positional argument: 'b'",
     "output_type": "error",
     "traceback": [
      "\u001b[0;31m---------------------------------------------------------------------------\u001b[0m",
      "\u001b[0;31mTypeError\u001b[0m                                 Traceback (most recent call last)",
      "\u001b[0;32m<ipython-input-30-b371b1914bd2>\u001b[0m in \u001b[0;36m<module>\u001b[0;34m()\u001b[0m\n\u001b[1;32m      6\u001b[0m     \u001b[0;34m'complicated'\u001b[0m\u001b[0;34m:\u001b[0m \u001b[0;32mTrue\u001b[0m\u001b[0;34m\u001b[0m\u001b[0m\n\u001b[1;32m      7\u001b[0m }\n\u001b[0;32m----> 8\u001b[0;31m \u001b[0mshow_arguments\u001b[0m\u001b[0;34m(\u001b[0m\u001b[0;34m**\u001b[0m\u001b[0mconfiguration\u001b[0m\u001b[0;34m)\u001b[0m\u001b[0;34m\u001b[0m\u001b[0m\n\u001b[0m",
      "\u001b[0;31mTypeError\u001b[0m: show_arguments() missing 1 required positional argument: 'b'"
     ]
    }
   ],
   "source": [
    "# il ne faut pas oublier les argument nécessaire dans ce cas\n",
    "configuration = {\n",
    "    'a': 3,\n",
    "    # 'b': 45,\n",
    "    'exponent': 4,\n",
    "    'complicated': True\n",
    "}\n",
    "show_arguments(**configuration)"
   ]
  },
  {
   "cell_type": "markdown",
   "metadata": {},
   "source": [
    "### Conseil: nommer tous les arguments de manière explicite dans la définition de la fonction.\n",
    "\n",
    "Quand une fonction devient complexe on peut être tenté d'utiliser **kwargs pour simplifier. Même si il y a des cas où cet \"argument fourre-tout\" est utile, dans la plupart des cas il est préférable de nommer tous les arguments pour que l'utilisation de la fonction soit explicite."
   ]
  },
  {
   "cell_type": "code",
   "execution_count": 31,
   "metadata": {},
   "outputs": [],
   "source": [
    "def complexe_computation_with_parameters(filename,\n",
    "                                         load_method='regular',\n",
    "                                         postprocessing=True,\n",
    "                                         postprocessing_ratio=0.1,\n",
    "                                         log_folder='logs/',\n",
    "                                         save_images=False):\n",
    "    # la fonction fait des choses compliquées...\n",
    "    if postprocessing:\n",
    "        do_postprocessing(postprocessing_ratio)\n",
    "    if save_images:\n",
    "        # ...\n",
    "        pass"
   ]
  },
  {
   "cell_type": "code",
   "execution_count": 32,
   "metadata": {},
   "outputs": [],
   "source": [
    "# On peut être tenté d'écrire:\n",
    "def complexe_computation_with_parameters(filename, **kwargs):\n",
    "    if kwargs['postprocessing']:\n",
    "        do_postprocessing(kwargs['postprocessing_ratio'])\n",
    "    if kwargs['save_images']:\n",
    "        # ...\n",
    "        pass\n",
    "    \n",
    "# Mais quand on lit la définition de la fonction on ne sait pas du tout quels arguments sont utiles."
   ]
  },
  {
   "cell_type": "code",
   "execution_count": null,
   "metadata": {},
   "outputs": [],
   "source": []
  },
  {
   "cell_type": "code",
   "execution_count": null,
   "metadata": {},
   "outputs": [],
   "source": []
  }
 ],
 "metadata": {
  "kernelspec": {
   "display_name": "Python 3",
   "language": "python",
   "name": "python3"
  },
  "language_info": {
   "codemirror_mode": {
    "name": "ipython",
    "version": 3
   },
   "file_extension": ".py",
   "mimetype": "text/x-python",
   "name": "python",
   "nbconvert_exporter": "python",
   "pygments_lexer": "ipython3",
   "version": "3.6.5"
  }
 },
 "nbformat": 4,
 "nbformat_minor": 2
}
