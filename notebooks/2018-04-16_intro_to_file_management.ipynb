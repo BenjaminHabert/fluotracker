{
 "cells": [
  {
   "cell_type": "code",
   "execution_count": 1,
   "metadata": {},
   "outputs": [],
   "source": [
    "# Ces lignes \"magiques\" servent à recharger le code python quand il est modifié\n",
    "# C'est utile si je suis en train de travailler sur une fonction du code (ex dans fluotracker/io/files.py)\n",
    "# et que je veux la tester en même temps dans ce notebook.\n",
    "%load_ext autoreload\n",
    "%autoreload 2"
   ]
  },
  {
   "cell_type": "markdown",
   "metadata": {},
   "source": [
    "## Vérifier que le setup a fonctionné"
   ]
  },
  {
   "cell_type": "code",
   "execution_count": 2,
   "metadata": {},
   "outputs": [
    {
     "name": "stdout",
     "output_type": "stream",
     "text": [
      "[files.py]: data folder is: /Users/benjaminhabert/Documents/FluotrackerProject/fluotracker/data\n"
     ]
    }
   ],
   "source": [
    "# Pour que cette cellule fonctionne il faut que:\n",
    "# - la librairie pandas soit installée dans l'environnement virtuel utilisé (pip install -r requirements.txt)\n",
    "# - le librairie fluotracker soit \"visible\" par python. Il faut sur le répertoire du répository soit\n",
    "#   dans le PYTHONPATH (utiliser la commande $ . activate.sh) avant de lancer le notebook pour que ça soit le cas\n",
    "import pandas as pd\n",
    "\n",
    "from fluotracker.io import files"
   ]
  },
  {
   "cell_type": "code",
   "execution_count": 3,
   "metadata": {},
   "outputs": [
    {
     "name": "stdout",
     "output_type": "stream",
     "text": [
      "<data>\n",
      "<data>/.DS_Store\n",
      "<data>/infos.txt\n",
      "<data>/raw\n",
      "<data>/raw/movie8.tif\n"
     ]
    }
   ],
   "source": [
    "# Fonction pratique pour lister les fichiers dans le dossier data/ local au projet:\n",
    "files.inventory()"
   ]
  },
  {
   "cell_type": "markdown",
   "metadata": {},
   "source": [
    "Ce que j'obtiens sur ma machine:\n",
    "\n",
    "```\n",
    "[files.py]: data folder is: /Users/benjaminhabert/Documents/FluotrackerProject/fluotracker/data\n",
    "<data>\n",
    "<data>/.DS_Store\n",
    "<data>/infos.txt\n",
    "<data>/raw\n",
    "<data>/raw/movie8.tif\n",
    "```\n",
    "\n",
    "Il **faut** que le fichier `movie8.tif` soit placé dans le dossier (local au projet) `data/raw/` pour que le script `run_extraction.py` fonctionne."
   ]
  },
  {
   "cell_type": "code",
   "execution_count": 4,
   "metadata": {},
   "outputs": [
    {
     "data": {
      "text/html": [
       "<div>\n",
       "<style scoped>\n",
       "    .dataframe tbody tr th:only-of-type {\n",
       "        vertical-align: middle;\n",
       "    }\n",
       "\n",
       "    .dataframe tbody tr th {\n",
       "        vertical-align: top;\n",
       "    }\n",
       "\n",
       "    .dataframe thead th {\n",
       "        text-align: right;\n",
       "    }\n",
       "</style>\n",
       "<table border=\"1\" class=\"dataframe\">\n",
       "  <thead>\n",
       "    <tr style=\"text-align: right;\">\n",
       "      <th></th>\n",
       "      <th>color</th>\n",
       "      <th>time</th>\n",
       "    </tr>\n",
       "  </thead>\n",
       "  <tbody>\n",
       "    <tr>\n",
       "      <th>0</th>\n",
       "      <td>blue</td>\n",
       "      <td>1</td>\n",
       "    </tr>\n",
       "    <tr>\n",
       "      <th>1</th>\n",
       "      <td>blue</td>\n",
       "      <td>2</td>\n",
       "    </tr>\n",
       "    <tr>\n",
       "      <th>2</th>\n",
       "      <td>red</td>\n",
       "      <td>3</td>\n",
       "    </tr>\n",
       "    <tr>\n",
       "      <th>3</th>\n",
       "      <td>NaN</td>\n",
       "      <td>4</td>\n",
       "    </tr>\n",
       "  </tbody>\n",
       "</table>\n",
       "</div>"
      ],
      "text/plain": [
       "  color  time\n",
       "0  blue     1\n",
       "1  blue     2\n",
       "2   red     3\n",
       "3   NaN     4"
      ]
     },
     "execution_count": 4,
     "metadata": {},
     "output_type": "execute_result"
    }
   ],
   "source": [
    "# Sauvegarder un dataframe pandas\n",
    "df = pd.DataFrame({\n",
    "    'time': [1, 2, 3, 4],\n",
    "    'color': ['blue', 'blue', 'red', pd.np.nan]\n",
    "})\n",
    "\n",
    "df"
   ]
  },
  {
   "cell_type": "code",
   "execution_count": 5,
   "metadata": {},
   "outputs": [
    {
     "name": "stdout",
     "output_type": "stream",
     "text": [
      "Saving dataframe to: /Users/benjaminhabert/Documents/FluotrackerProject/fluotracker/data/temp/colors.csv\n"
     ]
    }
   ],
   "source": [
    "# WARNING: \n",
    "# De manière implicite, toutes nos fonctions pour lire / écrire des fichiers supposent que les données\n",
    "# sont dans notre dossier data/\n",
    "# pour préciser que c'est bien un fichier relatif on utiliser `temp/colors.csv` et non `/temp/colors.csv`\n",
    "# (ie: sans \"/\" au début du chemin)\n",
    "files.save_dataframe(df, 'temp/colors.csv')"
   ]
  },
  {
   "cell_type": "code",
   "execution_count": 6,
   "metadata": {},
   "outputs": [
    {
     "name": "stdout",
     "output_type": "stream",
     "text": [
      "<data>\n",
      "<data>/.DS_Store\n",
      "<data>/infos.txt\n",
      "<data>/raw\n",
      "<data>/raw/movie8.tif\n",
      "<data>/temp\n",
      "<data>/temp/colors.csv\n"
     ]
    }
   ],
   "source": [
    "files.inventory()"
   ]
  },
  {
   "cell_type": "code",
   "execution_count": 7,
   "metadata": {},
   "outputs": [
    {
     "name": "stdout",
     "output_type": "stream",
     "text": [
      "Loading dataframe from: /Users/benjaminhabert/Documents/FluotrackerProject/fluotracker/data/temp/colors.csv\n"
     ]
    },
    {
     "data": {
      "text/html": [
       "<div>\n",
       "<style scoped>\n",
       "    .dataframe tbody tr th:only-of-type {\n",
       "        vertical-align: middle;\n",
       "    }\n",
       "\n",
       "    .dataframe tbody tr th {\n",
       "        vertical-align: top;\n",
       "    }\n",
       "\n",
       "    .dataframe thead th {\n",
       "        text-align: right;\n",
       "    }\n",
       "</style>\n",
       "<table border=\"1\" class=\"dataframe\">\n",
       "  <thead>\n",
       "    <tr style=\"text-align: right;\">\n",
       "      <th></th>\n",
       "      <th>color</th>\n",
       "      <th>time</th>\n",
       "    </tr>\n",
       "  </thead>\n",
       "  <tbody>\n",
       "    <tr>\n",
       "      <th>0</th>\n",
       "      <td>blue</td>\n",
       "      <td>1</td>\n",
       "    </tr>\n",
       "    <tr>\n",
       "      <th>1</th>\n",
       "      <td>blue</td>\n",
       "      <td>2</td>\n",
       "    </tr>\n",
       "    <tr>\n",
       "      <th>2</th>\n",
       "      <td>red</td>\n",
       "      <td>3</td>\n",
       "    </tr>\n",
       "    <tr>\n",
       "      <th>3</th>\n",
       "      <td>NaN</td>\n",
       "      <td>4</td>\n",
       "    </tr>\n",
       "  </tbody>\n",
       "</table>\n",
       "</div>"
      ],
      "text/plain": [
       "  color  time\n",
       "0  blue     1\n",
       "1  blue     2\n",
       "2   red     3\n",
       "3   NaN     4"
      ]
     },
     "execution_count": 7,
     "metadata": {},
     "output_type": "execute_result"
    }
   ],
   "source": [
    "loaded_df = files.load_dataframe('temp/colors.csv')\n",
    "loaded_df"
   ]
  },
  {
   "cell_type": "markdown",
   "metadata": {},
   "source": [
    "## Exercice 1: vérifier qu'on peut lancer le \"pipeline\" d'extraction principal\n",
    "\n",
    "```\n",
    "$ . activate.sh\n",
    "$ python fluotracker/extraction/run_extraction.py\n",
    "```\n",
    "\n",
    "Ce script utilise la fonction `run_extraction()` qui se décompose en quelques étapes. Ces étapes sont écrites dans d'autres fichier. Pour l'instant ces autres étapes sont \"vide\": il faut encore écrire le code!!\n",
    "\n",
    "Néanmoins le script devrait déjà pouvoir être exécuté sans générer d'erreur. A la fin du script il devrait y avoir en plus dans le dossier data/ les fichiers `/filtered/movie8.csv` et `/extracted/movie8.csv` (mais ces fichiers csv ne contiennent pas la bonne info):\n",
    "\n",
    "```\n",
    "<data>\n",
    "<data>/.DS_Store\n",
    "<data>/infos.txt\n",
    "<data>/extracted\n",
    "<data>/extracted/movie8.csv\n",
    "<data>/filtered\n",
    "<data>/filtered/movie8.csv\n",
    "<data>/raw\n",
    "<data>/raw/movie8.tif\n",
    "<data>/temp\n",
    "<data>/temp/colors.csv\n",
    "```\n"
   ]
  },
  {
   "cell_type": "markdown",
   "metadata": {},
   "source": [
    "## Exercice 2: écrire la fonction qui charge les données du film:"
   ]
  },
  {
   "cell_type": "code",
   "execution_count": 9,
   "metadata": {},
   "outputs": [
    {
     "name": "stdout",
     "output_type": "stream",
     "text": [
      "Loading movie from /Users/benjaminhabert/Documents/FluotrackerProject/fluotracker/data/raw/movie8.tif\n"
     ]
    },
    {
     "data": {
      "text/plain": [
       "array([1, 2, 3])"
      ]
     },
     "execution_count": 9,
     "metadata": {},
     "output_type": "execute_result"
    }
   ],
   "source": [
    "# TODO: implémenter le contenu de cette fonction directement dans le code\n",
    "frames = files.load_movie_frames('raw/movie8.tif')\n",
    "frames"
   ]
  },
  {
   "cell_type": "code",
   "execution_count": 11,
   "metadata": {},
   "outputs": [
    {
     "data": {
      "text/plain": [
       "'/Users/benjaminhabert/Documents/FluotrackerProject/fluotracker/data/raw/movie8.tif'"
      ]
     },
     "execution_count": 11,
     "metadata": {},
     "output_type": "execute_result"
    }
   ],
   "source": [
    "# Astuce: ça peut être plus simple de commencer à écrire le code dans le notebook et de copier dans la fonction\n",
    "# une fois qu'on est content du résultat\n",
    "\n",
    "relative_path = 'raw/movie8.tif'\n",
    "absolute_path = files.create_abspath(relative_path)\n",
    "\n",
    "absolute_path"
   ]
  },
  {
   "cell_type": "markdown",
   "metadata": {},
   "source": [
    "# Exercice 3: continuer à compléter le pipeline d'extraction\n",
    "\n",
    "- la fonction `fluotracker.extraction.extract.extract_tracks_from_frames(frames)`\n",
    "- la fonction `fluotracker.extraction.filter.remove_short_tracks(frames)` (si on trouve que c'est utile)"
   ]
  },
  {
   "cell_type": "code",
   "execution_count": null,
   "metadata": {},
   "outputs": [],
   "source": []
  }
 ],
 "metadata": {
  "kernelspec": {
   "display_name": "Python 3",
   "language": "python",
   "name": "python3"
  },
  "language_info": {
   "codemirror_mode": {
    "name": "ipython",
    "version": 3
   },
   "file_extension": ".py",
   "mimetype": "text/x-python",
   "name": "python",
   "nbconvert_exporter": "python",
   "pygments_lexer": "ipython3",
   "version": "3.6.5"
  }
 },
 "nbformat": 4,
 "nbformat_minor": 2
}
